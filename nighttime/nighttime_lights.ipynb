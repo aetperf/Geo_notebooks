{
 "cells": [
  {
   "cell_type": "markdown",
   "metadata": {},
   "source": [
    "# Nighttime Lights with Rasterio and Datashader\n",
    "\n",
    "\n",
    "GeoTIFF [data](https://ngdc.noaa.gov/eog/dmsp/download_radcal.html) from NOAA (single GeoTIFF: F16_20100111-20110731_rad_v4.avg_vis.tif):\n",
    "\n",
    "> The Operational Linescan System (OLS) flown on the Defense Meteorological Satellite Program (DMSP) satellites, has a unique capability to record low light imaging data at night worldwide. These data are archived at the National Oceanic and Atmospheric Administration (NOAA) National Geophysical Data Center (NGDC).\n",
    " \n",
    "Following this nice [tutorial](https://automating-gis-processes.github.io/CSC18/lessons/L6/reading-raster.html) on rasterio."
   ]
  },
  {
   "cell_type": "code",
   "execution_count": null,
   "metadata": {},
   "outputs": [],
   "source": [
    "import rasterio\n",
    "from rasterio.tools.mask import mask\n",
    "import os\n",
    "import datashader as ds\n",
    "from datashader import transfer_functions as tf,\n",
    "import xarray as xr\n",
    "from colorcet import palette\n",
    "from shapely.geometry import box\n",
    "import geopandas as gpd\n",
    "from fiona.crs import from_epsg\n",
    "import json"
   ]
  },
  {
   "cell_type": "markdown",
   "metadata": {},
   "source": [
    "## Open the file"
   ]
  },
  {
   "cell_type": "code",
   "execution_count": null,
   "metadata": {},
   "outputs": [],
   "source": [
    "data_path = '/media/francois/T5/data/Global_Radiance_Calibrated_Nighttime_Lights/'\n",
    "file_name = 'F16_20100111-20110731_rad_v4.avg_vis.tif'  # data from 2010\n",
    "file_path = os.path.join(data_path, file_name)"
   ]
  },
  {
   "cell_type": "code",
   "execution_count": null,
   "metadata": {},
   "outputs": [],
   "source": [
    "raster = rasterio.open(file_path)"
   ]
  },
  {
   "cell_type": "markdown",
   "metadata": {},
   "source": [
    "## Check the raster attributes"
   ]
  },
  {
   "cell_type": "code",
   "execution_count": null,
   "metadata": {},
   "outputs": [],
   "source": [
    "type(raster)"
   ]
  },
  {
   "cell_type": "code",
   "execution_count": null,
   "metadata": {},
   "outputs": [],
   "source": [
    "raster.crs"
   ]
  },
  {
   "cell_type": "code",
   "execution_count": null,
   "metadata": {},
   "outputs": [],
   "source": [
    "raster.bounds"
   ]
  },
  {
   "cell_type": "markdown",
   "metadata": {},
   "source": [
    "We can see above that this raster file is covering most of the planet. \n",
    "\n",
    "## Mask / clip the raster\n",
    "\n",
    "Let's crop it using a bounding box, in order to focus on South Europe and North Africa:"
   ]
  },
  {
   "cell_type": "code",
   "execution_count": null,
   "metadata": {},
   "outputs": [],
   "source": [
    "# WGS84 coordinates\n",
    "minx, miny = -20., 20.\n",
    "maxx, maxy =  30., 60.\n",
    "bbox = box(minx, miny, maxx, maxy)\n",
    "\n",
    "geo = gpd.GeoDataFrame({'geometry': bbox}, index=[0], crs=from_epsg(4326))\n",
    "coords = [json.loads(geo.to_json())['features'][0]['geometry']]\n",
    "out_img, out_transform = mask(raster=raster, shapes=coords, crop=True)"
   ]
  },
  {
   "cell_type": "markdown",
   "metadata": {},
   "source": [
    "## Convert it to xarray DataArray"
   ]
  },
  {
   "cell_type": "code",
   "execution_count": null,
   "metadata": {},
   "outputs": [],
   "source": [
    "da = xr.DataArray(out_img)[0][::-1]"
   ]
  },
  {
   "cell_type": "markdown",
   "metadata": {},
   "source": [
    "## Re-sample and display"
   ]
  },
  {
   "cell_type": "code",
   "execution_count": null,
   "metadata": {},
   "outputs": [],
   "source": [
    "# colors\n",
    "cmap = palette['fire']\n",
    "bg_col = 'black'\n",
    "\n",
    "cvs = ds.Canvas(plot_width=800, plot_height=800)\n",
    "img = tf.shade(cvs.raster(da), cmap=cmap)\n",
    "img = tf.set_background(img, bg_col)\n",
    "img"
   ]
  }
 ],
 "metadata": {
  "kernelspec": {
   "display_name": "Python 3",
   "language": "python",
   "name": "python3"
  },
  "language_info": {
   "codemirror_mode": {
    "name": "ipython",
    "version": 3
   },
   "file_extension": ".py",
   "mimetype": "text/x-python",
   "name": "python",
   "nbconvert_exporter": "python",
   "pygments_lexer": "ipython3",
   "version": "3.6.6"
  }
 },
 "nbformat": 4,
 "nbformat_minor": 2
}
