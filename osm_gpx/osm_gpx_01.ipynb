{
 "cells": [
  {
   "cell_type": "markdown",
   "metadata": {},
   "source": [
    "# OSM GPX\n",
    "\n",
    "https://wiki.openstreetmap.org/wiki/Planet.gpx\n",
    "\n",
    "https://planet.openstreetmap.org/gps/\n",
    "\n",
    "simple-gps-points-120604.csv.xz     2012-08-22 16:28   15G \n",
    "\n",
    "link : https://planet.openstreetmap.org/gps/simple-gps-points-120604.csv.xz\n",
    "\n",
    "\n",
    "```bash\n",
    "$ conda create -n osm_gpx python=3.7\n",
    "$ conda activate osm_gpx\n",
    "(osm_gpx) $ conda install jupyterlab\n",
    "```"
   ]
  },
  {
   "cell_type": "code",
   "execution_count": 1,
   "metadata": {},
   "outputs": [],
   "source": [
    "data_dir_path = '/home/francois/data/OSM_GPX'"
   ]
  },
  {
   "cell_type": "code",
   "execution_count": 2,
   "metadata": {},
   "outputs": [
    {
     "name": "stdout",
     "output_type": "stream",
     "text": [
      "--2019-05-18 10:32:40--  https://planet.openstreetmap.org/gps/simple-gps-points-120604.csv.xz.md5\n",
      "Resolving planet.openstreetmap.org (planet.openstreetmap.org)... 130.117.76.10, 2001:978:2:2c::172:a\n",
      "Connecting to planet.openstreetmap.org (planet.openstreetmap.org)|130.117.76.10|:443... connected.\n",
      "HTTP request sent, awaiting response... 200 OK\n",
      "Length: 66 [application/x-xz]\n",
      "Saving to: ‘/home/francois/data/OSM_GPX/simple-gps-points-120604.csv.xz.md5.1’\n",
      "\n",
      "simple-gps-points-1 100%[===================>]      66  --.-KB/s    in 0s      \n",
      "\n",
      "2019-05-18 10:32:41 (3,31 MB/s) - ‘/home/francois/data/OSM_GPX/simple-gps-points-120604.csv.xz.md5.1’ saved [66/66]\n",
      "\n"
     ]
    }
   ],
   "source": [
    "# !wget -P {data_dir_path} https://planet.openstreetmap.org/gps/simple-gps-points-120604.csv.xz\n",
    "!wget -P {data_dir_path} https://planet.openstreetmap.org/gps/simple-gps-points-120604.csv.xz.md5 "
   ]
  },
  {
   "cell_type": "code",
   "execution_count": 3,
   "metadata": {},
   "outputs": [
    {
     "name": "stdout",
     "output_type": "stream",
     "text": [
      "simple-gps-points-120604.csv.xz      simple-gps-points-120604.csv.xz.md5.1\n",
      "simple-gps-points-120604.csv.xz.md5\n"
     ]
    }
   ],
   "source": [
    "!ls {data_dir_path}"
   ]
  },
  {
   "cell_type": "code",
   "execution_count": 5,
   "metadata": {},
   "outputs": [
    {
     "name": "stdout",
     "output_type": "stream",
     "text": [
      "e2dd8a178f298295195e7b5d3bcf5ac6  /home/francois/data/OSM_GPX/simple-gps-points-120604.csv.xz\n"
     ]
    }
   ],
   "source": [
    "!md5sum /home/francois/data/OSM_GPX/simple-gps-points-120604.csv.xz"
   ]
  },
  {
   "cell_type": "code",
   "execution_count": 6,
   "metadata": {},
   "outputs": [
    {
     "name": "stdout",
     "output_type": "stream",
     "text": [
      "e2dd8a178f298295195e7b5d3bcf5ac6  simple-gps-points-120604.csv.xz\n"
     ]
    }
   ],
   "source": [
    "!cat /home/francois/data/OSM_GPX/simple-gps-points-120604.csv.xz.md5"
   ]
  },
  {
   "cell_type": "code",
   "execution_count": null,
   "metadata": {},
   "outputs": [],
   "source": [
    "!unxz "
   ]
  }
 ],
 "metadata": {
  "kernelspec": {
   "display_name": "Python 3",
   "language": "python",
   "name": "python3"
  },
  "language_info": {
   "codemirror_mode": {
    "name": "ipython",
    "version": 3
   },
   "file_extension": ".py",
   "mimetype": "text/x-python",
   "name": "python",
   "nbconvert_exporter": "python",
   "pygments_lexer": "ipython3",
   "version": "3.7.3"
  }
 },
 "nbformat": 4,
 "nbformat_minor": 2
}
