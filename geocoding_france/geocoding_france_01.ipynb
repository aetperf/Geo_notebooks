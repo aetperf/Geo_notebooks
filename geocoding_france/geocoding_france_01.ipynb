{
 "cells": [
  {
   "cell_type": "markdown",
   "metadata": {},
   "source": [
    "Example found [here](https://gist.github.com/ThomasG77/e488251696a00de73631) (gist.github).\n",
    "\n",
    "Tobacco shop adresses in France from [data.gouv](https://www.data.gouv.fr/fr/datasets/adresses-des-debits-de-tabac/)."
   ]
  },
  {
   "cell_type": "code",
   "execution_count": 1,
   "metadata": {},
   "outputs": [],
   "source": [
    "import requests\n",
    "import pandas as pd\n",
    "import time"
   ]
  },
  {
   "cell_type": "code",
   "execution_count": 2,
   "metadata": {},
   "outputs": [],
   "source": [
    "df = pd.read_csv('data/annuaire-des-debits-de-tabac-2018.csv', sep=';', encoding=\"ISO-8859-1\", index_col=0)"
   ]
  },
  {
   "cell_type": "code",
   "execution_count": 3,
   "metadata": {},
   "outputs": [
    {
     "data": {
      "text/html": [
       "<div>\n",
       "<style scoped>\n",
       "    .dataframe tbody tr th:only-of-type {\n",
       "        vertical-align: middle;\n",
       "    }\n",
       "\n",
       "    .dataframe tbody tr th {\n",
       "        vertical-align: top;\n",
       "    }\n",
       "\n",
       "    .dataframe thead th {\n",
       "        text-align: right;\n",
       "    }\n",
       "</style>\n",
       "<table border=\"1\" class=\"dataframe\">\n",
       "  <thead>\n",
       "    <tr style=\"text-align: right;\">\n",
       "      <th></th>\n",
       "      <th>ENSEIGNE</th>\n",
       "      <th>ADRESSE</th>\n",
       "      <th>COMPLEMENT</th>\n",
       "      <th>CODE POSTAL</th>\n",
       "      <th>COMMUNE</th>\n",
       "      <th>NATURE DU DEBIT</th>\n",
       "    </tr>\n",
       "    <tr>\n",
       "      <th>ID</th>\n",
       "      <th></th>\n",
       "      <th></th>\n",
       "      <th></th>\n",
       "      <th></th>\n",
       "      <th></th>\n",
       "      <th></th>\n",
       "    </tr>\n",
       "  </thead>\n",
       "  <tbody>\n",
       "    <tr>\n",
       "      <th>1</th>\n",
       "      <td>NaN</td>\n",
       "      <td>32 route des grands champs</td>\n",
       "      <td>TABAC</td>\n",
       "      <td>1400</td>\n",
       "      <td>L-ABERGEMENT-CLEMENCIAT</td>\n",
       "      <td>Ordinaire permanent</td>\n",
       "    </tr>\n",
       "    <tr>\n",
       "      <th>2</th>\n",
       "      <td>NaN</td>\n",
       "      <td>42 RUE ROGER VAILLANT</td>\n",
       "      <td>CC DAME LOUISE-TABAC-</td>\n",
       "      <td>1500</td>\n",
       "      <td>AMBERIEU-EN-BUGEY</td>\n",
       "      <td>Ordinaire permanent</td>\n",
       "    </tr>\n",
       "  </tbody>\n",
       "</table>\n",
       "</div>"
      ],
      "text/plain": [
       "   ENSEIGNE                     ADRESSE             COMPLEMENT  CODE POSTAL  \\\n",
       "ID                                                                            \n",
       "1       NaN  32 route des grands champs                  TABAC         1400   \n",
       "2       NaN       42 RUE ROGER VAILLANT  CC DAME LOUISE-TABAC-         1500   \n",
       "\n",
       "                    COMMUNE      NATURE DU DEBIT  \n",
       "ID                                                \n",
       "1   L-ABERGEMENT-CLEMENCIAT  Ordinaire permanent  \n",
       "2         AMBERIEU-EN-BUGEY  Ordinaire permanent  "
      ]
     },
     "execution_count": 3,
     "metadata": {},
     "output_type": "execute_result"
    }
   ],
   "source": [
    "df.head(2)"
   ]
  },
  {
   "cell_type": "code",
   "execution_count": 4,
   "metadata": {},
   "outputs": [],
   "source": [
    "df.rename(columns={'CODE POSTAL': 'CODE_POSTAL'}, inplace=True)\n",
    "df.drop(['ENSEIGNE', 'COMPLEMENT', 'NATURE DU DEBIT'], axis=1, inplace=True)"
   ]
  },
  {
   "cell_type": "code",
   "execution_count": 5,
   "metadata": {},
   "outputs": [],
   "source": [
    "df['CODE_POSTAL'] = df['CODE_POSTAL'].astype(str).map(lambda x: x.zfill(5))"
   ]
  },
  {
   "cell_type": "code",
   "execution_count": 6,
   "metadata": {},
   "outputs": [
    {
     "name": "stdout",
     "output_type": "stream",
     "text": [
      "<class 'pandas.core.frame.DataFrame'>\n",
      "Int64Index: 24434 entries, 1 to 24434\n",
      "Data columns (total 3 columns):\n",
      "ADRESSE        24370 non-null object\n",
      "CODE_POSTAL    24434 non-null object\n",
      "COMMUNE        24434 non-null object\n",
      "dtypes: object(3)\n",
      "memory usage: 763.6+ KB\n"
     ]
    }
   ],
   "source": [
    "df.info()"
   ]
  },
  {
   "cell_type": "code",
   "execution_count": 7,
   "metadata": {},
   "outputs": [
    {
     "data": {
      "text/plain": [
       "'32 route des grands champs 01400 L-ABERGEMENT-CLEMENCIAT'"
      ]
     },
     "execution_count": 7,
     "metadata": {},
     "output_type": "execute_result"
    }
   ],
   "source": [
    "test_address = df.ADRESSE.iloc[0] + ' ' + df.CODE_POSTAL.iloc[0] + ' ' + df['COMMUNE'].iloc[0]\n",
    "test_address"
   ]
  },
  {
   "cell_type": "code",
   "execution_count": 8,
   "metadata": {},
   "outputs": [],
   "source": [
    "URL = 'http://api-adresse.data.gouv.fr/search/'"
   ]
  },
  {
   "cell_type": "code",
   "execution_count": 9,
   "metadata": {},
   "outputs": [
    {
     "data": {
      "text/plain": [
       "{'attribution': 'BAN',\n",
       " 'version': 'draft',\n",
       " 'features': [{'properties': {'street': 'Route des Grands Champs',\n",
       "    'postcode': '01400',\n",
       "    'label': \"32 Route des Grands Champs 01400 L'Abergement-Clémenciat\",\n",
       "    'name': '32 Route des Grands Champs',\n",
       "    'y': 6563089.5,\n",
       "    'score': 0.9101818181818182,\n",
       "    'context': '01, Ain, Auvergne-Rhône-Alpes (Rhône-Alpes)',\n",
       "    'citycode': '01001',\n",
       "    'housenumber': '32',\n",
       "    'city': \"L'Abergement-Clémenciat\",\n",
       "    'id': 'ADRNIVX_0000002006758334',\n",
       "    'importance': 0.012,\n",
       "    'type': 'housenumber',\n",
       "    'x': 848126.2},\n",
       "   'type': 'Feature',\n",
       "   'geometry': {'coordinates': [4.919419, 46.151419], 'type': 'Point'}}],\n",
       " 'limit': 1,\n",
       " 'licence': 'ODbL 1.0',\n",
       " 'type': 'FeatureCollection',\n",
       " 'query': '32 route des grands champs 01400 L-ABERGEMENT-CLEMENCIAT'}"
      ]
     },
     "execution_count": 9,
     "metadata": {},
     "output_type": "execute_result"
    }
   ],
   "source": [
    "response = requests.get(URL, params={'q': test_address, 'limit': 1})\n",
    "response.json()"
   ]
  },
  {
   "cell_type": "code",
   "execution_count": 10,
   "metadata": {},
   "outputs": [
    {
     "name": "stdout",
     "output_type": "stream",
     "text": [
      "lat.: 46.151419 , lon.: 4.919419 , score: 0.9101818181818182\n"
     ]
    }
   ],
   "source": [
    "features = response.json()['features'][0]\n",
    "lat, lon = None, None\n",
    "coords = features['geometry']['coordinates']\n",
    "if features['geometry']['type'] == 'Point':\n",
    "    lon = coords[0]\n",
    "    lat = coords[1]\n",
    "print('lat.:', lat, \n",
    "      ', lon.:', lon,\n",
    "      ', score:', features['properties']['score'])"
   ]
  },
  {
   "cell_type": "code",
   "execution_count": 13,
   "metadata": {},
   "outputs": [],
   "source": [
    "def get_coords(address):\n",
    "    response = requests.get(URL, params={'q': address, 'limit': 1})\n",
    "    geom_type, lat, lon, score = None, None, None, None\n",
    "    try:\n",
    "        features = response.json()['features'][0]\n",
    "        score = features['properties']['score']\n",
    "        geom_type = features['geometry']['type']\n",
    "        coords = features['geometry']['coordinates']\n",
    "        if geom_type == 'Point':\n",
    "            lon = coords[0]\n",
    "            lat = coords[1]\n",
    "    except:\n",
    "        print(\"No response...\")\n",
    "    return geom_type, lat, lon, score"
   ]
  },
  {
   "cell_type": "code",
   "execution_count": 14,
   "metadata": {},
   "outputs": [
    {
     "name": "stdout",
     "output_type": "stream",
     "text": [
      "processed 100 addresses over 24434\n",
      "processed 200 addresses over 24434\n",
      "processed 300 addresses over 24434\n",
      "processed 400 addresses over 24434\n",
      "No response...\n",
      "processed 500 addresses over 24434\n"
     ]
    },
    {
     "ename": "TypeError",
     "evalue": "unsupported operand type(s) for +: 'float' and 'str'",
     "output_type": "error",
     "traceback": [
      "\u001b[0;31m---------------------------------------------------------------------------\u001b[0m",
      "\u001b[0;31mTypeError\u001b[0m                                 Traceback (most recent call last)",
      "\u001b[0;32m<ipython-input-14-e8067d4572d8>\u001b[0m in \u001b[0;36m<module>\u001b[0;34m()\u001b[0m\n\u001b[1;32m      6\u001b[0m \u001b[0;32mfor\u001b[0m \u001b[0mrow\u001b[0m \u001b[0;32min\u001b[0m \u001b[0mdf\u001b[0m\u001b[0;34m.\u001b[0m\u001b[0mitertuples\u001b[0m\u001b[0;34m(\u001b[0m\u001b[0;34m)\u001b[0m\u001b[0;34m:\u001b[0m\u001b[0;34m\u001b[0m\u001b[0m\n\u001b[1;32m      7\u001b[0m \u001b[0;34m\u001b[0m\u001b[0m\n\u001b[0;32m----> 8\u001b[0;31m     \u001b[0maddress\u001b[0m \u001b[0;34m=\u001b[0m \u001b[0mrow\u001b[0m\u001b[0;34m.\u001b[0m\u001b[0mADRESSE\u001b[0m \u001b[0;34m+\u001b[0m \u001b[0;34m' '\u001b[0m \u001b[0;34m+\u001b[0m \u001b[0mrow\u001b[0m\u001b[0;34m.\u001b[0m\u001b[0mCODE_POSTAL\u001b[0m \u001b[0;34m+\u001b[0m \u001b[0;34m' '\u001b[0m \u001b[0;34m+\u001b[0m \u001b[0mrow\u001b[0m\u001b[0;34m.\u001b[0m\u001b[0mCOMMUNE\u001b[0m\u001b[0;34m\u001b[0m\u001b[0m\n\u001b[0m\u001b[1;32m      9\u001b[0m     \u001b[0mgeom_type\u001b[0m\u001b[0;34m,\u001b[0m \u001b[0mlat\u001b[0m\u001b[0;34m,\u001b[0m \u001b[0mlon\u001b[0m\u001b[0;34m,\u001b[0m \u001b[0mscore\u001b[0m \u001b[0;34m=\u001b[0m \u001b[0mget_coords\u001b[0m\u001b[0;34m(\u001b[0m\u001b[0maddress\u001b[0m\u001b[0;34m)\u001b[0m\u001b[0;34m\u001b[0m\u001b[0m\n\u001b[1;32m     10\u001b[0m \u001b[0;31m#     print('geom. type:', geom_type, 'lat.:', lat, ', lon.:', lon, ', score:', score)\u001b[0m\u001b[0;34m\u001b[0m\u001b[0;34m\u001b[0m\u001b[0m\n",
      "\u001b[0;31mTypeError\u001b[0m: unsupported operand type(s) for +: 'float' and 'str'"
     ]
    }
   ],
   "source": [
    "i = 0\n",
    "geom_types = []\n",
    "scores = []\n",
    "lats = []\n",
    "lons = []\n",
    "for row in df.itertuples():\n",
    "    \n",
    "    address = row.ADRESSE + ' ' + row.CODE_POSTAL + ' ' + row.COMMUNE\n",
    "    geom_type, lat, lon, score = get_coords(address)\n",
    "#     print('geom. type:', geom_type, 'lat.:', lat, ', lon.:', lon, ', score:', score)\n",
    "    geom_types.append(geom_type)\n",
    "    scores.append(score)\n",
    "    lats.append(lat)\n",
    "    lons.append(lon)\n",
    "    i += 1\n",
    "    if i == 1000:\n",
    "        break\n",
    "    if i % 100 == 0:\n",
    "        print(\"processed\", i, \"addresses over\", len(df))\n",
    "    time.sleep(0.1)"
   ]
  },
  {
   "cell_type": "code",
   "execution_count": null,
   "metadata": {},
   "outputs": [],
   "source": [
    "if len(geom_types) == len(df):\n",
    "    df['geom_type'] = pd.Series(geom_types).values\n",
    "if len(scores) == len(df):\n",
    "    df['score'] = pd.Series(scores).values\n",
    "if len(lats) == len(df):\n",
    "    df['lat'] = pd.Series(lats).values\n",
    "if len(lons) == len(df):\n",
    "    df['lon'] = pd.Series(lons).values"
   ]
  },
  {
   "cell_type": "code",
   "execution_count": null,
   "metadata": {},
   "outputs": [],
   "source": [
    "# # Utillisez http://localhost:7878 si vous utilisez une instance locale.\n",
    "# ADDOK_URL = 'http://api-adresse.data.gouv.fr/search/csv/'\n",
    "\n",
    "\n",
    "# def geocode(filepath_in):\n",
    "#     with open(filepath_in, 'rb') as f:\n",
    "#         filename, response = post_to_addok(filepath_in, f.read())\n",
    "#         write_response_to_disk(filename, response)\n",
    "\n",
    "\n",
    "# def geocode_chunked(filepath_in, filename_pattern, chunk_by):\n",
    "#     with open(filepath_in, 'r') as bigfile:\n",
    "#         headers = bigfile.readline()\n",
    "#         current_lines = bigfile.readlines(chunk_by)\n",
    "#         i = 1\n",
    "#         while current_lines:\n",
    "#             current_filename = filename_pattern.format(i)\n",
    "#             current_csv = ''.join([headers] + current_lines)\n",
    "#             filename, response = post_to_addok(current_filename, current_csv)\n",
    "#             write_response_to_disk(filename, response)\n",
    "#             current_lines = bigfile.readlines(chunk_by)\n",
    "#             i += 1\n",
    "\n",
    "\n",
    "# def write_response_to_disk(filename, response, chunk_size=1024):\n",
    "#     with open(filename, 'wb') as fd:\n",
    "#         for chunk in response.iter_content(chunk_size=chunk_size):\n",
    "#             fd.write(chunk)\n",
    "\n",
    "\n",
    "# def post_to_addok(filename, filelike_object):\n",
    "#     files = {'data': (filename, filelike_object)}\n",
    "#     response = requests.post(ADDOK_URL, files=files)\n",
    "#     # You might want to use https://github.com/g2p/rfc6266\n",
    "#     content_disposition = response.headers['content-disposition']\n",
    "#     filename = content_disposition[len('attachment; filename=\"'):-len('\"')]\n",
    "#     return filename, response\n",
    "\n",
    "\n",
    "# # Geocoder votre fichier en une fois s'il est petit.\n",
    "# geocode('data.csv')\n",
    "# # => data.geocoded.csv\n",
    "\n",
    "# # Sinon, geocoder-le par morceaux quand il est gros.\n",
    "# chunk_by = 50 * 2  # approximative number of lines.\n",
    "# geocode_chunked('data.csv', 'result-{}.csv', chunk_by)\n",
    "# # => result-1.geocoded.csv, result-2.geocoded.csv, etc"
   ]
  },
  {
   "cell_type": "code",
   "execution_count": null,
   "metadata": {},
   "outputs": [],
   "source": [
    "# requests_session = requests.Session()\n",
    "\n",
    "# kwargs = {\n",
    "#     'data': OrderedDict([\n",
    "#         ('columns', ['numero_libelle_de_voie', 'commune']),\n",
    "#         ('postcode', 'code_postal')\n",
    "#     ]),\n",
    "#     'method': 'post',\n",
    "#     'files': OrderedDict([\n",
    "#         ('data', ('annuaire-des-debits-de-tabac-part.csv',\n",
    "#          io.BytesIO(\n",
    "#              open('annuaire-des-debits-de-tabac-part.csv', 'rb').read()\n",
    "#          )))\n",
    "#     ]),\n",
    "#     'stream': True,\n",
    "#     'url': 'http://api-adresse.data.gouv.fr/search/csv/'\n",
    "# }\n",
    "\n",
    "# response = requests_session.request(**kwargs)\n",
    "\n",
    "# with codecs.open('/tmp/out.csv', 'wb', 'utf-8') as f:\n",
    "# f.write(response.text)"
   ]
  }
 ],
 "metadata": {
  "kernelspec": {
   "display_name": "Python 3",
   "language": "python",
   "name": "python3"
  },
  "language_info": {
   "codemirror_mode": {
    "name": "ipython",
    "version": 3
   },
   "file_extension": ".py",
   "mimetype": "text/x-python",
   "name": "python",
   "nbconvert_exporter": "python",
   "pygments_lexer": "ipython3",
   "version": "3.7.0"
  }
 },
 "nbformat": 4,
 "nbformat_minor": 2
}
